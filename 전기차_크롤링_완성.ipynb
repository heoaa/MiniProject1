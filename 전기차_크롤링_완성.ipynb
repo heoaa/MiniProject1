{
 "cells": [
  {
   "cell_type": "markdown",
   "metadata": {},
   "source": [
    "## kepco plug 크롤링"
   ]
  },
  {
   "cell_type": "code",
   "execution_count": 1,
   "metadata": {},
   "outputs": [],
   "source": [
    "from bs4 import BeautifulSoup as bs\n",
    "from selenium import webdriver\n",
    "import time\n",
    "import pandas as pd"
   ]
  },
  {
   "cell_type": "code",
   "execution_count": 8,
   "metadata": {},
   "outputs": [
    {
     "name": "stderr",
     "output_type": "stream",
     "text": [
      "C:\\Users\\admin\\AppData\\Local\\Temp\\ipykernel_14448\\1972881630.py:2: DeprecationWarning: executable_path has been deprecated, please pass in a Service object\n",
      "  driver = webdriver.Chrome(\"C:/ChromeDriver_exe/chromedriver.exe\")\n"
     ]
    }
   ],
   "source": [
    "# 크롬드라이버로 네이버 열기\n",
    "driver = webdriver.Chrome(\"C:/ChromeDriver_exe/chromedriver.exe\")\n",
    "driver.get('https://evc.kepco.co.kr:4445/service/service03.do')\n",
    "time.sleep(2)\n",
    "\n",
    "# 페이지 소스 저장\n",
    "html = driver.page_source\n",
    "html\n",
    "\n",
    "# ??\n",
    "soup = bs(html, \"html.parser\")\n",
    "soup\n",
    "\n",
    "# 제조사 이름 가져오기\n",
    "factori_1 = []\n",
    "\n",
    "for i in range(0, 10, 1):\n",
    "    factori = soup.select('#contents > div > div.sub_tab_wrap2 > ul > li')\n",
    "    factori_1.append(factori[i].text)\n",
    "\n",
    "# 제조사 데이터프레임 만들기\n",
    "kia = [factori_1[0], factori_1[0] ,factori_1[0] ,factori_1[0]]\n",
    "hundai = [factori_1[1],factori_1[1],factori_1[1],factori_1[1],factori_1[1],factori_1[1]]\n",
    "samsung = [factori_1[2],factori_1[2]]\n",
    "bmw = [factori_1[3],factori_1[3]]\n",
    "che = [factori_1[4]]\n",
    "nit = [factori_1[5]]\n",
    "tesla = [factori_1[6],factori_1[6],factori_1[6]]\n",
    "ssang = [factori_1[7]]\n",
    "benz = [factori_1[8]]\n",
    "hanbul = [factori_1[9],factori_1[9],factori_1[9]]\n",
    "\n",
    "jejosa_list = [kia + hundai+ samsung+ bmw+ che+ nit+ tesla+ ssang+ benz+ hanbul]\n",
    "jejosa = pd.DataFrame(jejosa_list[0])\n",
    "jejosa\n",
    "\n",
    "# 전기차 이름 가져오기\n",
    "names = []\n",
    "\n",
    "for i in range(0, 24, 1):\n",
    "    name = soup.select('div.car_list_txt > h6')\n",
    "    names.append(name[i].text)\n",
    "\n",
    "car = pd.DataFrame(names)\n",
    "car\n",
    "\n",
    "# 전기차 스펙 가져오기\n",
    "contants = []\n",
    "\n",
    "for i in range(0, 144,1):\n",
    "    contant = soup.select('div.car_list_txt > ul.blue_dot02 > li')\n",
    "    contants.append(contant[i].text)\n",
    "\n",
    "# contants 내용을 주제별로 나눠서 차종마다 concat\n",
    "for i in range(0, 6, 1):\n",
    "    globals()['contants_{}'.format(i)] = []\n",
    "    globals()['contants_{}'.format(i)] = contants[i:144:6]\n",
    "    globals()['contants_{}'.format(i)] = pd.DataFrame(globals()['contants_{}'.format(i)])\n",
    "    globals()['contants_{}'.format(i)] = globals()['contants_{}'.format(i)][0].str.split(' :').str[1]\n",
    "\n",
    "ele_car = pd.concat([jejosa, car, contants_0,contants_1,contants_2,contants_3,contants_4,contants_5], axis=1)\n",
    "ele_car.columns = ['제조사','차명', '충전방식', '승차인원', '1회충전 주행거리', '배터리 종류', '배터리 용량', '최고속도']\n",
    "ele_car['배터리 용량'] = ele_car['배터리 용량'].str.strip()\n",
    "\n",
    "ele_car.to_csv('./data/전기차_정보.csv')"
   ]
  },
  {
   "cell_type": "code",
   "execution_count": null,
   "metadata": {},
   "outputs": [],
   "source": []
  }
 ],
 "metadata": {
  "kernelspec": {
   "display_name": "Python 3.9.12 64-bit",
   "language": "python",
   "name": "python3"
  },
  "language_info": {
   "codemirror_mode": {
    "name": "ipython",
    "version": 3
   },
   "file_extension": ".py",
   "mimetype": "text/x-python",
   "name": "python",
   "nbconvert_exporter": "python",
   "pygments_lexer": "ipython3",
   "version": "3.9.12"
  },
  "orig_nbformat": 4,
  "vscode": {
   "interpreter": {
    "hash": "38ae1ba9371524da054e8e3fbefd778d16b5a8ac7937a3f395010f627bb73919"
   }
  }
 },
 "nbformat": 4,
 "nbformat_minor": 2
}
