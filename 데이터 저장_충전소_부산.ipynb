{
 "cells": [
  {
   "cell_type": "code",
   "execution_count": 1,
   "id": "455a1643",
   "metadata": {},
   "outputs": [],
   "source": [
    "import pandas as pd"
   ]
  },
  {
   "cell_type": "code",
   "execution_count": 2,
   "id": "43509083",
   "metadata": {},
   "outputs": [],
   "source": [
    "df = pd.read_csv('./data/newdata/2. 충전소/충전소_부산인천충남.csv')\n",
    "df_busan = df[df['지역'] == '부산광역시']"
   ]
  },
  {
   "cell_type": "code",
   "execution_count": 3,
   "id": "4c3e1b22",
   "metadata": {},
   "outputs": [
    {
     "data": {
      "text/plain": [
       "array(['DC차데모+AC3상+DC콤보', 'DC콤보', 'DC차데모', 'DC차데모+AC3상', 'AC완속',\n",
       "       'DC차데모+DC콤보'], dtype=object)"
      ]
     },
     "execution_count": 3,
     "metadata": {},
     "output_type": "execute_result"
    }
   ],
   "source": [
    "df_busan['충전기타입'].unique()"
   ]
  },
  {
   "cell_type": "code",
   "execution_count": 4,
   "id": "4526978e",
   "metadata": {},
   "outputs": [],
   "source": [
    "df_busan.to_csv('./data/newdata/2. 충전소/충전소_부산.csv', index = False)"
   ]
  }
 ],
 "metadata": {
  "kernelspec": {
   "display_name": "Python 3 (ipykernel)",
   "language": "python",
   "name": "python3"
  },
  "language_info": {
   "codemirror_mode": {
    "name": "ipython",
    "version": 3
   },
   "file_extension": ".py",
   "mimetype": "text/x-python",
   "name": "python",
   "nbconvert_exporter": "python",
   "pygments_lexer": "ipython3",
   "version": "3.9.12"
  },
  "toc": {
   "base_numbering": 1,
   "nav_menu": {},
   "number_sections": true,
   "sideBar": true,
   "skip_h1_title": false,
   "title_cell": "Table of Contents",
   "title_sidebar": "Contents",
   "toc_cell": false,
   "toc_position": {},
   "toc_section_display": true,
   "toc_window_display": false
  }
 },
 "nbformat": 4,
 "nbformat_minor": 5
}
